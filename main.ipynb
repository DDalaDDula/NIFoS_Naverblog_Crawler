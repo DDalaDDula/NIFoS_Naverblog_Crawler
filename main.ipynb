{
 "cells": [
  {
   "cell_type": "code",
   "execution_count": null,
   "metadata": {},
   "outputs": [],
   "source": [
    "# main.ipynb\n",
    "\n",
    "import pandas as pd\n",
    "from crawler_module import run_crawler\n",
    "\n",
    "Yr = 22\n",
    "M1 = 7\n",
    "M2 = 7\n",
    "\n",
    "run_crawler(Yr, M1, M2)"
   ]
  }
 ],
 "metadata": {
  "language_info": {
   "name": "python"
  },
  "orig_nbformat": 4
 },
 "nbformat": 4,
 "nbformat_minor": 2
}
